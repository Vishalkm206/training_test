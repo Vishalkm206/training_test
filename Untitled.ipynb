{
 "cells": [
  {
   "cell_type": "markdown",
   "id": "de8892b9-ec15-4e25-b9f6-adfd1f9e5b7d",
   "metadata": {},
   "source": [
    "## Write a program to count the sub_string from main string Example:- A B C D C D C Sub_string= C D C result =2"
   ]
  },
  {
   "cell_type": "code",
   "execution_count": 3,
   "id": "809118be-9590-4870-9e1f-3a537428b6dc",
   "metadata": {},
   "outputs": [
    {
     "name": "stdout",
     "output_type": "stream",
     "text": [
      "2\n"
     ]
    }
   ],
   "source": [
    "def count_substring(main_string, sub_string):\n",
    "  count = 0\n",
    "  for i in range(len(main_string) - len(sub_string) + 1):\n",
    "    if main_string[i:i + len(sub_string)] == sub_string:\n",
    "      count += 1\n",
    "  return count\n",
    "\n",
    "\n",
    "main_string = \"A B C D C D C\"\n",
    "sub_string = \"C D C\"\n",
    "result = count_substring(main_string, sub_string)\n",
    "print(result)"
   ]
  },
  {
   "cell_type": "markdown",
   "id": "37e62174-3ef6-4685-828e-9c9b8538b7f2",
   "metadata": {},
   "source": [
    "## Write a program to take 4 number and store in list [2,4,6,8] find the factorial of the each number of the list and store the value  in the list "
   ]
  },
  {
   "cell_type": "code",
   "execution_count": 32,
   "id": "3dac8001-beab-449c-a447-9e3e1b3ab8e7",
   "metadata": {},
   "outputs": [
    {
     "name": "stdin",
     "output_type": "stream",
     "text": [
      " 2 4 24 48\n"
     ]
    },
    {
     "name": "stdout",
     "output_type": "stream",
     "text": [
      "[2, 24, 620448401733239439360000, 12413915592536072670862289047373375038521486354677760000000000]\n"
     ]
    }
   ],
   "source": [
    "def factorial(n):\n",
    "  if n == 0:\n",
    "    return 1\n",
    "  else:\n",
    "    return n * factorial(n - 1)\n",
    "\n",
    "numbers = [int(i) for i in input().split(\" \")]\n",
    "\n",
    "factorials = [factorial(num) for num in numbers]\n",
    "\n",
    "print(factorials)"
   ]
  },
  {
   "cell_type": "markdown",
   "id": "c70931fa-d1a3-4b03-8149-5f0579ff0fac",
   "metadata": {},
   "source": [
    "## Create a strong password combining words, numbers and characters. (* )Keep creating the new password until you find one you like  "
   ]
  },
  {
   "cell_type": "code",
   "execution_count": 27,
   "id": "23e5d2b6-4c86-4b6b-95be-b34c07020c10",
   "metadata": {},
   "outputs": [
    {
     "name": "stdout",
     "output_type": "stream",
     "text": [
      "Xv>v59n^K_I4\n"
     ]
    },
    {
     "name": "stdin",
     "output_type": "stream",
     "text": [
      "Do you like this password? (y/n):  n\n"
     ]
    },
    {
     "name": "stdout",
     "output_type": "stream",
     "text": [
      ";~P-XAGl,th<\n"
     ]
    },
    {
     "name": "stdin",
     "output_type": "stream",
     "text": [
      "Do you like this password? (y/n):  n\n"
     ]
    },
    {
     "name": "stdout",
     "output_type": "stream",
     "text": [
      "&,vL3u.1z3jW\n"
     ]
    },
    {
     "name": "stdin",
     "output_type": "stream",
     "text": [
      "Do you like this password? (y/n):  y\n"
     ]
    }
   ],
   "source": [
    "import random\n",
    "import string\n",
    "\n",
    "def generate_password(length=12):\n",
    "    letters = string.ascii_letters\n",
    "    digits = string.digits\n",
    "    symbols = string.punctuation\n",
    "    combined = letters + digits + symbols\n",
    "    password = ''.join(random.choices(combined, k=length))\n",
    "    return password\n",
    "\n",
    "\n",
    "while True:\n",
    "    password = generate_password()\n",
    "    print(password)\n",
    "    if input(\"Do you like this password? (y/n): \") == \"y\":\n",
    "        break"
   ]
  },
  {
   "cell_type": "markdown",
   "id": "91b8b0d2-5400-485f-a0dd-8877884c71d7",
   "metadata": {},
   "source": [
    "## Checking of the vowels inside the string"
   ]
  },
  {
   "cell_type": "code",
   "execution_count": 26,
   "id": "d623d0d0-1457-4256-80c4-1b2e34c7692f",
   "metadata": {},
   "outputs": [
    {
     "name": "stdout",
     "output_type": "stream",
     "text": [
      "5\n"
     ]
    }
   ],
   "source": [
    "def vowel_check(string):\n",
    "  vowels = \"aeiouAEIOU\"\n",
    "  vowel_count = 0\n",
    "  for char in string:\n",
    "    if char in vowels:\n",
    "      vowel_count += 1\n",
    "  return vowel_count\n",
    "\n",
    "string = \"It is cold winter\"\n",
    "result = vowel_check(string)\n",
    "print(result)"
   ]
  },
  {
   "cell_type": "markdown",
   "id": "ffdab160-354d-4d7b-9166-7e212ddd2297",
   "metadata": {},
   "source": [
    "## A python program to access each element of a string in forward and reverse orders using while loop "
   ]
  },
  {
   "cell_type": "code",
   "execution_count": 25,
   "id": "a9336bd8-4afb-4e54-8f80-13b557299f5b",
   "metadata": {},
   "outputs": [
    {
     "name": "stdout",
     "output_type": "stream",
     "text": [
      "i\n",
      "t\n",
      " \n",
      "i\n",
      "s\n",
      " \n",
      "h\n",
      "o\n",
      "t\n",
      " \n",
      "s\n",
      "u\n",
      "m\n",
      "m\n",
      "e\n",
      "r\n",
      "_______________\n",
      "r\n",
      "e\n",
      "m\n",
      "m\n",
      "u\n",
      "s\n",
      " \n",
      "t\n",
      "o\n",
      "h\n",
      " \n",
      "s\n",
      "i\n",
      " \n",
      "t\n",
      "i\n"
     ]
    }
   ],
   "source": [
    "def access_string(string):\n",
    "    index = 0\n",
    "    while index < len(string):\n",
    "        print(string[index])\n",
    "        index += 1\n",
    "    print(\"_______________\")\n",
    "    index = len(string) - 1\n",
    "    while index >= 0:\n",
    "        print(string[index])\n",
    "        index -= 1\n",
    "\n",
    "string = \"it is hot summer\"\n",
    "access_string(string)"
   ]
  },
  {
   "cell_type": "markdown",
   "id": "ed4fa7e2-3a7b-4976-912e-8cc39c6150da",
   "metadata": {},
   "source": [
    "## Write a python program to know whether a sub- string exists in main string \n"
   ]
  },
  {
   "cell_type": "code",
   "execution_count": 23,
   "id": "da36fdc7-b21b-4764-8213-1c5c4e17b7a9",
   "metadata": {},
   "outputs": [
    {
     "name": "stdout",
     "output_type": "stream",
     "text": [
      "True\n"
     ]
    }
   ],
   "source": [
    "def substring_exists(main_string, sub_string):\n",
    "  return sub_string in main_string\n",
    "\n",
    "# Example usage\n",
    "main_string = \"Hello, world!\"\n",
    "sub_string = \"world\"\n",
    "result = substring_exists(main_string, sub_string)\n",
    "print(result)"
   ]
  },
  {
   "cell_type": "markdown",
   "id": "7a9efc66-88db-4585-a376-2ae6ea7c68bd",
   "metadata": {},
   "source": [
    "## A python program to find the first occurrences of sub string in a given main string  "
   ]
  },
  {
   "cell_type": "code",
   "execution_count": 22,
   "id": "37f1883f-d1ce-4c17-9111-bd794cd71904",
   "metadata": {},
   "outputs": [
    {
     "name": "stdout",
     "output_type": "stream",
     "text": [
      "6\n"
     ]
    }
   ],
   "source": [
    "def find_first_occurrence(main_string, sub_string):\n",
    "  index = main_string.find(sub_string)\n",
    "  return index\n",
    "\n",
    "main_string = \"It is hot summer\"\n",
    "sub_string = \"hot\"\n",
    "result = find_first_occurrence(main_string, sub_string)\n",
    "print(result)"
   ]
  },
  {
   "cell_type": "markdown",
   "id": "2b44638d-898e-4b46-ac4a-33f522d8c666",
   "metadata": {},
   "source": [
    "## A python program to insert a sub string in main string in a particular position"
   ]
  },
  {
   "cell_type": "code",
   "execution_count": 21,
   "id": "154395b6-21fe-4896-a907-9b0170b405be",
   "metadata": {},
   "outputs": [
    {
     "name": "stdout",
     "output_type": "stream",
     "text": [
      "it is hotsummer\n"
     ]
    }
   ],
   "source": [
    "def insert_substring(main_string, sub_string, position):\n",
    "  return main_string[:position] + sub_string + main_string[position:]\n",
    "\n",
    "# Example usage\n",
    "main_string = \"it is summer\"\n",
    "sub_string = \"hot\"\n",
    "position = 7-1\n",
    "result = insert_substring(main_string, sub_string, position)\n",
    "print(result)"
   ]
  },
  {
   "cell_type": "code",
   "execution_count": 20,
   "id": "fc924c0e-67ab-44b4-a816-f62bb9d3d259",
   "metadata": {},
   "outputs": [
    {
     "name": "stdout",
     "output_type": "stream",
     "text": [
      "0 1 1 2 3 5 8 13 21 34 "
     ]
    }
   ],
   "source": [
    "def fibonacci_generator(n):\n",
    "  a, b = 0, 1\n",
    "  for i in range(n):\n",
    "    yield a\n",
    "    a, b = b, a + b\n",
    "\n",
    "for j in fibonacci_generator(10):\n",
    "    print(j,end=' ')"
   ]
  },
  {
   "cell_type": "code",
   "execution_count": null,
   "id": "749b8712-d562-4999-9fad-940a67f3129b",
   "metadata": {},
   "outputs": [],
   "source": []
  }
 ],
 "metadata": {
  "kernelspec": {
   "display_name": "Python 3 (ipykernel)",
   "language": "python",
   "name": "python3"
  },
  "language_info": {
   "codemirror_mode": {
    "name": "ipython",
    "version": 3
   },
   "file_extension": ".py",
   "mimetype": "text/x-python",
   "name": "python",
   "nbconvert_exporter": "python",
   "pygments_lexer": "ipython3",
   "version": "3.12.5"
  }
 },
 "nbformat": 4,
 "nbformat_minor": 5
}
